{
 "cells": [
  {
   "cell_type": "markdown",
   "id": "cb5d3614",
   "metadata": {},
   "source": [
    "## Оқу жылы басындағы студеннтердің саны бойынша деректер"
   ]
  },
  {
   "cell_type": "code",
   "execution_count": 1,
   "id": "3eae5d0c",
   "metadata": {},
   "outputs": [],
   "source": [
    "import numpy as np\n",
    "import pandas as pd\n",
    "import matplotlib.pyplot as plt"
   ]
  },
  {
   "cell_type": "markdown",
   "id": "269a9f59",
   "metadata": {},
   "source": [
    "#### Деректерге жолды көрсетеміз"
   ]
  },
  {
   "cell_type": "code",
   "execution_count": 2,
   "id": "28be3d27",
   "metadata": {},
   "outputs": [],
   "source": [
    "PATH = \"oku_zhylynyn_basyndagy_student1-v1.csv\""
   ]
  },
  {
   "cell_type": "markdown",
   "id": "44bcf533",
   "metadata": {},
   "source": [
    "#### Деректерді оқимыз"
   ]
  },
  {
   "cell_type": "code",
   "execution_count": 3,
   "id": "71fb825c",
   "metadata": {},
   "outputs": [
    {
     "data": {
      "text/html": [
       "<div>\n",
       "<style scoped>\n",
       "    .dataframe tbody tr th:only-of-type {\n",
       "        vertical-align: middle;\n",
       "    }\n",
       "\n",
       "    .dataframe tbody tr th {\n",
       "        vertical-align: top;\n",
       "    }\n",
       "\n",
       "    .dataframe thead th {\n",
       "        text-align: right;\n",
       "    }\n",
       "</style>\n",
       "<table border=\"1\" class=\"dataframe\">\n",
       "  <thead>\n",
       "    <tr style=\"text-align: right;\">\n",
       "      <th></th>\n",
       "      <th>&lt;god&gt;</th>\n",
       "      <th>&lt;24_let&gt;</th>\n",
       "      <th>&lt;27_let&gt;</th>\n",
       "      <th>&lt;35-39_let&gt;</th>\n",
       "      <th>&lt;16_let&gt;</th>\n",
       "      <th>&lt;18_let&gt;</th>\n",
       "      <th>&lt;40-49_let&gt;</th>\n",
       "      <th>&lt;region&gt;</th>\n",
       "      <th>&lt;21_let&gt;</th>\n",
       "      <th>&lt;29_let&gt;</th>\n",
       "      <th>...</th>\n",
       "      <th>&lt;30-34_goda&gt;</th>\n",
       "      <th>&lt;19_let&gt;</th>\n",
       "      <th>&lt;23_let&gt;</th>\n",
       "      <th>&lt;obshyaya_chislennost_stydentov_na_nachalo_uchebnogo_goda_po_vozrastam&gt;</th>\n",
       "      <th>&lt;28_let&gt;</th>\n",
       "      <th>&lt;22_let&gt;</th>\n",
       "      <th>&lt;50-59_let&gt;</th>\n",
       "      <th>&lt;20_let&gt;</th>\n",
       "      <th>&lt;17_let&gt;</th>\n",
       "      <th>&lt;25_let&gt;</th>\n",
       "    </tr>\n",
       "  </thead>\n",
       "  <tbody>\n",
       "    <tr>\n",
       "      <th>0</th>\n",
       "      <td>2021</td>\n",
       "      <td>19155</td>\n",
       "      <td>8966</td>\n",
       "      <td>10564</td>\n",
       "      <td>4088</td>\n",
       "      <td>86941</td>\n",
       "      <td>9166</td>\n",
       "      <td>Қазақстан Республикасы</td>\n",
       "      <td>66503</td>\n",
       "      <td>6347</td>\n",
       "      <td>...</td>\n",
       "      <td>16452</td>\n",
       "      <td>94656</td>\n",
       "      <td>26237</td>\n",
       "      <td>575511</td>\n",
       "      <td>7674</td>\n",
       "      <td>36619</td>\n",
       "      <td>2095</td>\n",
       "      <td>95310</td>\n",
       "      <td>58180</td>\n",
       "      <td>14990</td>\n",
       "    </tr>\n",
       "    <tr>\n",
       "      <th>1</th>\n",
       "      <td>2021</td>\n",
       "      <td>812</td>\n",
       "      <td>514</td>\n",
       "      <td>263</td>\n",
       "      <td>39</td>\n",
       "      <td>1249</td>\n",
       "      <td>145</td>\n",
       "      <td>Қызылорда</td>\n",
       "      <td>1581</td>\n",
       "      <td>360</td>\n",
       "      <td>...</td>\n",
       "      <td>393</td>\n",
       "      <td>1411</td>\n",
       "      <td>846</td>\n",
       "      <td>12524</td>\n",
       "      <td>406</td>\n",
       "      <td>1009</td>\n",
       "      <td>17</td>\n",
       "      <td>1509</td>\n",
       "      <td>803</td>\n",
       "      <td>645</td>\n",
       "    </tr>\n",
       "    <tr>\n",
       "      <th>2</th>\n",
       "      <td>2021</td>\n",
       "      <td>1194</td>\n",
       "      <td>628</td>\n",
       "      <td>1189</td>\n",
       "      <td>132</td>\n",
       "      <td>3727</td>\n",
       "      <td>1050</td>\n",
       "      <td>Шығыс  Қазақстан</td>\n",
       "      <td>3583</td>\n",
       "      <td>453</td>\n",
       "      <td>...</td>\n",
       "      <td>2001</td>\n",
       "      <td>4505</td>\n",
       "      <td>1625</td>\n",
       "      <td>32211</td>\n",
       "      <td>535</td>\n",
       "      <td>2137</td>\n",
       "      <td>338</td>\n",
       "      <td>4869</td>\n",
       "      <td>2647</td>\n",
       "      <td>977</td>\n",
       "    </tr>\n",
       "    <tr>\n",
       "      <th>3</th>\n",
       "      <td>2021</td>\n",
       "      <td>309</td>\n",
       "      <td>215</td>\n",
       "      <td>325</td>\n",
       "      <td>10</td>\n",
       "      <td>1709</td>\n",
       "      <td>275</td>\n",
       "      <td>Ақмола</td>\n",
       "      <td>1571</td>\n",
       "      <td>188</td>\n",
       "      <td>...</td>\n",
       "      <td>576</td>\n",
       "      <td>1832</td>\n",
       "      <td>485</td>\n",
       "      <td>12044</td>\n",
       "      <td>198</td>\n",
       "      <td>721</td>\n",
       "      <td>80</td>\n",
       "      <td>2120</td>\n",
       "      <td>926</td>\n",
       "      <td>254</td>\n",
       "    </tr>\n",
       "    <tr>\n",
       "      <th>4</th>\n",
       "      <td>2021</td>\n",
       "      <td>1643</td>\n",
       "      <td>547</td>\n",
       "      <td>945</td>\n",
       "      <td>28</td>\n",
       "      <td>1407</td>\n",
       "      <td>743</td>\n",
       "      <td>Батыс Қазақстан</td>\n",
       "      <td>4050</td>\n",
       "      <td>384</td>\n",
       "      <td>...</td>\n",
       "      <td>1341</td>\n",
       "      <td>3196</td>\n",
       "      <td>2347</td>\n",
       "      <td>26889</td>\n",
       "      <td>514</td>\n",
       "      <td>2980</td>\n",
       "      <td>132</td>\n",
       "      <td>3649</td>\n",
       "      <td>1554</td>\n",
       "      <td>805</td>\n",
       "    </tr>\n",
       "    <tr>\n",
       "      <th>5</th>\n",
       "      <td>2021</td>\n",
       "      <td>189</td>\n",
       "      <td>83</td>\n",
       "      <td>90</td>\n",
       "      <td>21</td>\n",
       "      <td>1317</td>\n",
       "      <td>101</td>\n",
       "      <td>Маңғыстау</td>\n",
       "      <td>497</td>\n",
       "      <td>60</td>\n",
       "      <td>...</td>\n",
       "      <td>226</td>\n",
       "      <td>837</td>\n",
       "      <td>203</td>\n",
       "      <td>6553</td>\n",
       "      <td>62</td>\n",
       "      <td>303</td>\n",
       "      <td>13</td>\n",
       "      <td>683</td>\n",
       "      <td>1587</td>\n",
       "      <td>161</td>\n",
       "    </tr>\n",
       "    <tr>\n",
       "      <th>6</th>\n",
       "      <td>2021</td>\n",
       "      <td>1172</td>\n",
       "      <td>323</td>\n",
       "      <td>369</td>\n",
       "      <td>963</td>\n",
       "      <td>12377</td>\n",
       "      <td>209</td>\n",
       "      <td>Нұр-Сұлтан қаласы</td>\n",
       "      <td>7922</td>\n",
       "      <td>189</td>\n",
       "      <td>...</td>\n",
       "      <td>538</td>\n",
       "      <td>12218</td>\n",
       "      <td>2107</td>\n",
       "      <td>62788</td>\n",
       "      <td>233</td>\n",
       "      <td>3299</td>\n",
       "      <td>40</td>\n",
       "      <td>11514</td>\n",
       "      <td>8348</td>\n",
       "      <td>547</td>\n",
       "    </tr>\n",
       "    <tr>\n",
       "      <th>7</th>\n",
       "      <td>2021</td>\n",
       "      <td>772</td>\n",
       "      <td>359</td>\n",
       "      <td>422</td>\n",
       "      <td>64</td>\n",
       "      <td>3620</td>\n",
       "      <td>636</td>\n",
       "      <td>Ақтөбе</td>\n",
       "      <td>2596</td>\n",
       "      <td>261</td>\n",
       "      <td>...</td>\n",
       "      <td>1091</td>\n",
       "      <td>4087</td>\n",
       "      <td>1123</td>\n",
       "      <td>24909</td>\n",
       "      <td>274</td>\n",
       "      <td>1596</td>\n",
       "      <td>141</td>\n",
       "      <td>3823</td>\n",
       "      <td>2434</td>\n",
       "      <td>1261</td>\n",
       "    </tr>\n",
       "    <tr>\n",
       "      <th>8</th>\n",
       "      <td>2021</td>\n",
       "      <td>1024</td>\n",
       "      <td>658</td>\n",
       "      <td>657</td>\n",
       "      <td>18</td>\n",
       "      <td>3001</td>\n",
       "      <td>606</td>\n",
       "      <td>Жамбыл</td>\n",
       "      <td>2091</td>\n",
       "      <td>555</td>\n",
       "      <td>...</td>\n",
       "      <td>876</td>\n",
       "      <td>2934</td>\n",
       "      <td>1175</td>\n",
       "      <td>22443</td>\n",
       "      <td>604</td>\n",
       "      <td>1205</td>\n",
       "      <td>110</td>\n",
       "      <td>3166</td>\n",
       "      <td>2011</td>\n",
       "      <td>942</td>\n",
       "    </tr>\n",
       "    <tr>\n",
       "      <th>9</th>\n",
       "      <td>2021</td>\n",
       "      <td>505</td>\n",
       "      <td>342</td>\n",
       "      <td>886</td>\n",
       "      <td>27</td>\n",
       "      <td>1761</td>\n",
       "      <td>766</td>\n",
       "      <td>Павлодар</td>\n",
       "      <td>2168</td>\n",
       "      <td>294</td>\n",
       "      <td>...</td>\n",
       "      <td>1221</td>\n",
       "      <td>2147</td>\n",
       "      <td>726</td>\n",
       "      <td>16713</td>\n",
       "      <td>264</td>\n",
       "      <td>1224</td>\n",
       "      <td>228</td>\n",
       "      <td>2571</td>\n",
       "      <td>847</td>\n",
       "      <td>398</td>\n",
       "    </tr>\n",
       "  </tbody>\n",
       "</table>\n",
       "<p>10 rows × 23 columns</p>\n",
       "</div>"
      ],
      "text/plain": [
       "   <god>  <24_let>  <27_let>  <35-39_let>  <16_let>  <18_let>  <40-49_let>  \\\n",
       "0   2021     19155      8966        10564      4088     86941         9166   \n",
       "1   2021       812       514          263        39      1249          145   \n",
       "2   2021      1194       628         1189       132      3727         1050   \n",
       "3   2021       309       215          325        10      1709          275   \n",
       "4   2021      1643       547          945        28      1407          743   \n",
       "5   2021       189        83           90        21      1317          101   \n",
       "6   2021      1172       323          369       963     12377          209   \n",
       "7   2021       772       359          422        64      3620          636   \n",
       "8   2021      1024       658          657        18      3001          606   \n",
       "9   2021       505       342          886        27      1761          766   \n",
       "\n",
       "                 <region>  <21_let>  <29_let>  ...  <30-34_goda> <19_let>  \\\n",
       "0  Қазақстан Республикасы     66503      6347  ...         16452    94656   \n",
       "1               Қызылорда      1581       360  ...           393     1411   \n",
       "2        Шығыс  Қазақстан      3583       453  ...          2001     4505   \n",
       "3                  Ақмола      1571       188  ...           576     1832   \n",
       "4         Батыс Қазақстан      4050       384  ...          1341     3196   \n",
       "5               Маңғыстау       497        60  ...           226      837   \n",
       "6       Нұр-Сұлтан қаласы      7922       189  ...           538    12218   \n",
       "7                  Ақтөбе      2596       261  ...          1091     4087   \n",
       "8                  Жамбыл      2091       555  ...           876     2934   \n",
       "9                Павлодар      2168       294  ...          1221     2147   \n",
       "\n",
       "  <23_let>  \\\n",
       "0    26237   \n",
       "1      846   \n",
       "2     1625   \n",
       "3      485   \n",
       "4     2347   \n",
       "5      203   \n",
       "6     2107   \n",
       "7     1123   \n",
       "8     1175   \n",
       "9      726   \n",
       "\n",
       "   <obshyaya_chislennost_stydentov_na_nachalo_uchebnogo_goda_po_vozrastam>  \\\n",
       "0                                             575511                         \n",
       "1                                              12524                         \n",
       "2                                              32211                         \n",
       "3                                              12044                         \n",
       "4                                              26889                         \n",
       "5                                               6553                         \n",
       "6                                              62788                         \n",
       "7                                              24909                         \n",
       "8                                              22443                         \n",
       "9                                              16713                         \n",
       "\n",
       "   <28_let>  <22_let>  <50-59_let>  <20_let>  <17_let>  <25_let>  \n",
       "0      7674     36619         2095     95310     58180     14990  \n",
       "1       406      1009           17      1509       803       645  \n",
       "2       535      2137          338      4869      2647       977  \n",
       "3       198       721           80      2120       926       254  \n",
       "4       514      2980          132      3649      1554       805  \n",
       "5        62       303           13       683      1587       161  \n",
       "6       233      3299           40     11514      8348       547  \n",
       "7       274      1596          141      3823      2434      1261  \n",
       "8       604      1205          110      3166      2011       942  \n",
       "9       264      1224          228      2571       847       398  \n",
       "\n",
       "[10 rows x 23 columns]"
      ]
     },
     "execution_count": 3,
     "metadata": {},
     "output_type": "execute_result"
    }
   ],
   "source": [
    "df = pd.read_csv(PATH)\n",
    "df.head(10)"
   ]
  },
  {
   "cell_type": "markdown",
   "id": "de11a7e6",
   "metadata": {},
   "source": [
    "#### Неше регион бойынша дерек көзі бар екенін тексерейік"
   ]
  },
  {
   "cell_type": "code",
   "execution_count": 4,
   "id": "e1aaeeaa",
   "metadata": {},
   "outputs": [],
   "source": [
    "regions = set(df[\"<region>\"].tolist())\n",
    "length_region = len(regions)"
   ]
  },
  {
   "cell_type": "code",
   "execution_count": 5,
   "id": "ac247ad2",
   "metadata": {},
   "outputs": [
    {
     "name": "stdout",
     "output_type": "stream",
     "text": [
      "Региондар саны 18\n"
     ]
    }
   ],
   "source": [
    "print(f\"Региондар саны {length_region}\")"
   ]
  },
  {
   "cell_type": "code",
   "execution_count": 6,
   "id": "ff2b773b",
   "metadata": {},
   "outputs": [
    {
     "name": "stdout",
     "output_type": "stream",
     "text": [
      "Региондар тізімі:\n",
      "Алматы қаласы\n",
      "Жамбыл\n",
      "Шымкент қаласы\n",
      "Қостанай\n",
      "Алматы\n",
      "Қарағанды\n",
      "Солтүстік Қазақстан\n",
      "Қазақстан Республикасы\n",
      "Түркістан \n",
      "Ақтөбе\n",
      "Маңғыстау\n",
      "Атырау\n",
      "Нұр-Сұлтан қаласы\n",
      "Ақмола\n",
      "Батыс Қазақстан\n",
      "Шығыс  Қазақстан\n",
      "Павлодар\n",
      "Қызылорда\n"
     ]
    }
   ],
   "source": [
    "print(\"Региондар тізімі:\")\n",
    "for reg in regions:\n",
    "    print(reg)"
   ]
  },
  {
   "cell_type": "markdown",
   "id": "6f71d681",
   "metadata": {},
   "source": [
    "##### Региондар тізімінен Қазақстан Республикасын алып тастайық"
   ]
  },
  {
   "cell_type": "code",
   "execution_count": 7,
   "id": "4df4b834",
   "metadata": {},
   "outputs": [],
   "source": [
    "df = df.drop([0])"
   ]
  },
  {
   "cell_type": "code",
   "execution_count": 8,
   "id": "3c1517bf",
   "metadata": {},
   "outputs": [
    {
     "name": "stdout",
     "output_type": "stream",
     "text": [
      "Региондар саны 17\n"
     ]
    }
   ],
   "source": [
    "regions = set(df[\"<region>\"].tolist())\n",
    "length_region = len(regions)\n",
    "print(f\"Региондар саны {length_region}\")"
   ]
  },
  {
   "cell_type": "markdown",
   "id": "e564aca0",
   "metadata": {},
   "source": [
    "### Регион бойынша 18 жасар студеннтердің таралымын көрейік"
   ]
  },
  {
   "cell_type": "code",
   "execution_count": 9,
   "id": "068e8c5b",
   "metadata": {},
   "outputs": [
    {
     "data": {
      "image/png": "[encoded data removed]",
      "text/plain": [
       "<Figure size 432x288 with 1 Axes>"
      ]
     },
     "metadata": {
      "needs_background": "light"
     },
     "output_type": "display_data"
    }
   ],
   "source": [
    "ax = df.plot.bar(x='<region>', y='<18_let>')"
   ]
  },
  {
   "cell_type": "markdown",
   "id": "12d9726b",
   "metadata": {},
   "source": [
    "### Регион бойынша 35-39 жас аралығындағы студеннтердің таралымын көрейік"
   ]
  },
  {
   "cell_type": "code",
   "execution_count": 10,
   "id": "82e3b2f4",
   "metadata": {},
   "outputs": [
    {
     "data": {
      "image/png": "[encoded data removed]",
      "text/plain": [
       "<Figure size 432x288 with 1 Axes>"
      ]
     },
     "metadata": {
      "needs_background": "light"
     },
     "output_type": "display_data"
    }
   ],
   "source": [
    "ax = df.plot.bar(x='<region>', y='<35-39_let>')"
   ]
  },
  {
   "cell_type": "markdown",
   "id": "1ad5f7d1",
   "metadata": {},
   "source": [
    "### Әр регион бойынша жалпы студенттердің таралымына назар аударайық"
   ]
  },
  {
   "cell_type": "code",
   "execution_count": 11,
   "id": "f08aa89b",
   "metadata": {},
   "outputs": [
    {
     "data": {
      "image/png": "[encoded data removed]",
      "text/plain": [
       "<Figure size 432x288 with 1 Axes>"
      ]
     },
     "metadata": {
      "needs_background": "light"
     },
     "output_type": "display_data"
    }
   ],
   "source": [
    "ax = df.plot.bar(x='<region>', y='<obshyaya_chislennost_stydentov_na_nachalo_uchebnogo_goda_po_vozrastam>')"
   ]
  },
  {
   "cell_type": "code",
   "execution_count": null,
   "id": "009bd255",
   "metadata": {},
   "outputs": [],
   "source": []
  },
  {
   "cell_type": "code",
   "execution_count": null,
   "id": "63b7eb3a",
   "metadata": {},
   "outputs": [],
   "source": []
  }
 ],
 "metadata": {
  "kernelspec": {
   "display_name": "Python 3 (ipykernel)",
   "language": "python",
   "name": "python3"
  },
  "language_info": {
   "codemirror_mode": {
    "name": "ipython",
    "version": 3
   },
   "file_extension": ".py",
   "mimetype": "text/x-python",
   "name": "python",
   "nbconvert_exporter": "python",
   "pygments_lexer": "ipython3",
   "version": "3.7.9"
  }
 },
 "nbformat": 4,
 "nbformat_minor": 5
}
